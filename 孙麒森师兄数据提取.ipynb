{
 "cells": [
  {
   "cell_type": "code",
   "execution_count": 53,
   "id": "c4dfcc82-0648-496d-a74e-6bbf0450f1a3",
   "metadata": {},
   "outputs": [
    {
     "name": "stdout",
     "output_type": "stream",
     "text": [
      "           ensembl gene id  ensembl transcript id  gene biotype  \\\n",
      "0                   173218                 355485             1   \n",
      "1                   173218                 355485             1   \n",
      "2                   173218                 355485             1   \n",
      "3                   173218                 355485             1   \n",
      "4                   173218                 355485             1   \n",
      "...                    ...                    ...           ...   \n",
      "151437178           173218                 474344             1   \n",
      "151437179           173218                 474344             1   \n",
      "151437180           173218                 474344             1   \n",
      "151437181           173218                 474344             1   \n",
      "151437182           173218                 474344             1   \n",
      "\n",
      "           transcript biotype  transcript position  RBP     Score  \\\n",
      "0                           1                    5   58  0.441964   \n",
      "1                           1                    9  214  0.050881   \n",
      "2                           1                   10  400  1.000000   \n",
      "3                           1                   11  398  1.000000   \n",
      "4                           1                   11  379  1.000000   \n",
      "...                       ...                  ...  ...       ...   \n",
      "151437178                   5                  443  214  0.042595   \n",
      "151437179                   5                  443  424  0.287245   \n",
      "151437180                   5                  444  425  0.226622   \n",
      "151437181                   5                  449   58  0.441964   \n",
      "151437182                   5                  453  214  0.300371   \n",
      "\n",
      "           unpaired probability chromosome region exon start   exon end  \n",
      "0                      0.261858       chr1    5;5  115641958  115641964  \n",
      "1                      0.020179       chr1    5;5  115641962  115641968  \n",
      "2                      0.019103       chr1    5;5  115641963  115641969  \n",
      "3                      0.019013       chr1    5;5  115641964  115641970  \n",
      "4                      0.019013       chr1    5;5  115641964  115641970  \n",
      "...                         ...        ...    ...        ...        ...  \n",
      "151437178              0.271220       chr1  NA;NA  115684059  115684065  \n",
      "151437179              0.271220       chr1  NA;NA  115684059  115684065  \n",
      "151437180              0.216926       chr1  NA;NA  115684060  115684066  \n",
      "151437181              0.296185       chr1  NA;NA  115684065  115684071  \n",
      "151437182              0.109157       chr1  NA;NA  115684069  115684075  \n",
      "\n",
      "[151437183 rows x 12 columns]\n",
      "(151437183, 12)\n"
     ]
    }
   ],
   "source": [
    "import pandas as pd\n",
    "df=pd.read_csv(\"/data/zhouweiwei/spatial/data/Homo_sapiens_cDNA_oRNAment.csv\",sep=\",\",names=[\"ensembl gene id\",\"ensembl transcript id\",\"gene biotype\",\n",
    "\t\t\t\t\t\t\t\t\t\t\t\"transcript biotype\",\"transcript position\",\"RBP\",\"Score\",\"unpaired probability\"\n",
    "\t\t\t\t\t\t\t\t\t\t\t,\"chromosome\",\"region\",\"exon start\",\"exon end\"])\n",
    "print(df)\n",
    "print(df.shape)\n"
   ]
  },
  {
   "cell_type": "code",
   "execution_count": 64,
   "id": "ba80739f-654c-4979-b1b2-5dab6cb4c3a9",
   "metadata": {},
   "outputs": [],
   "source": [
    "df1=df[df[\"RBP\"].isin([353,354,355,356,357,358,359])]"
   ]
  },
  {
   "cell_type": "code",
   "execution_count": 55,
   "id": "9c0e3acb-7775-40d3-b70a-2bf8578912a1",
   "metadata": {},
   "outputs": [
    {
     "name": "stderr",
     "output_type": "stream",
     "text": [
      "/tmp/ipykernel_95136/68844373.py:1: SettingWithCopyWarning: \n",
      "A value is trying to be set on a copy of a slice from a DataFrame.\n",
      "Try using .loc[row_indexer,col_indexer] = value instead\n",
      "\n",
      "See the caveats in the documentation: https://pandas.pydata.org/pandas-docs/stable/user_guide/indexing.html#returning-a-view-versus-a-copy\n",
      "  df1.replace({\"RBP\": {\n"
     ]
    }
   ],
   "source": [
    "df1.replace({\"RBP\": {\n",
    "     353: \"SFPQ-353\"\n",
    " }}, inplace=True)\n"
   ]
  },
  {
   "cell_type": "code",
   "execution_count": 56,
   "id": "8efb1d12-4fb1-4b4d-ba78-da3075f27da8",
   "metadata": {},
   "outputs": [
    {
     "name": "stderr",
     "output_type": "stream",
     "text": [
      "/tmp/ipykernel_95136/2550691215.py:1: SettingWithCopyWarning: \n",
      "A value is trying to be set on a copy of a slice from a DataFrame\n",
      "\n",
      "See the caveats in the documentation: https://pandas.pydata.org/pandas-docs/stable/user_guide/indexing.html#returning-a-view-versus-a-copy\n",
      "  df1[\"RBP\"].replace(354,\"SFPQ-354\",inplace=True)\n",
      "/tmp/ipykernel_95136/2550691215.py:2: SettingWithCopyWarning: \n",
      "A value is trying to be set on a copy of a slice from a DataFrame\n",
      "\n",
      "See the caveats in the documentation: https://pandas.pydata.org/pandas-docs/stable/user_guide/indexing.html#returning-a-view-versus-a-copy\n",
      "  df1[\"RBP\"].replace(355,\"SFPQ-355\",inplace=True)\n",
      "/tmp/ipykernel_95136/2550691215.py:3: SettingWithCopyWarning: \n",
      "A value is trying to be set on a copy of a slice from a DataFrame\n",
      "\n",
      "See the caveats in the documentation: https://pandas.pydata.org/pandas-docs/stable/user_guide/indexing.html#returning-a-view-versus-a-copy\n",
      "  df1[\"RBP\"].replace(356,\"SFPQ-356\",inplace=True)\n",
      "/tmp/ipykernel_95136/2550691215.py:4: SettingWithCopyWarning: \n",
      "A value is trying to be set on a copy of a slice from a DataFrame\n",
      "\n",
      "See the caveats in the documentation: https://pandas.pydata.org/pandas-docs/stable/user_guide/indexing.html#returning-a-view-versus-a-copy\n",
      "  df1[\"RBP\"].replace(357,\"SFPQ-357\",inplace=True)\n",
      "/tmp/ipykernel_95136/2550691215.py:5: SettingWithCopyWarning: \n",
      "A value is trying to be set on a copy of a slice from a DataFrame\n",
      "\n",
      "See the caveats in the documentation: https://pandas.pydata.org/pandas-docs/stable/user_guide/indexing.html#returning-a-view-versus-a-copy\n",
      "  df1[\"RBP\"].replace(358,\"SFPQ-358\",inplace=True)\n",
      "/tmp/ipykernel_95136/2550691215.py:6: SettingWithCopyWarning: \n",
      "A value is trying to be set on a copy of a slice from a DataFrame\n",
      "\n",
      "See the caveats in the documentation: https://pandas.pydata.org/pandas-docs/stable/user_guide/indexing.html#returning-a-view-versus-a-copy\n",
      "  df1[\"RBP\"].replace(359,\"SFPQ-359\",inplace=True)\n"
     ]
    }
   ],
   "source": [
    "df1[\"RBP\"].replace(354,\"SFPQ-354\",inplace=True)\n",
    "df1[\"RBP\"].replace(355,\"SFPQ-355\",inplace=True)\n",
    "df1[\"RBP\"].replace(356,\"SFPQ-356\",inplace=True)\n",
    "df1[\"RBP\"].replace(357,\"SFPQ-357\",inplace=True)\n",
    "df1[\"RBP\"].replace(358,\"SFPQ-358\",inplace=True)\n",
    "df1[\"RBP\"].replace(359,\"SFPQ-359\",inplace=True)"
   ]
  },
  {
   "cell_type": "code",
   "execution_count": 68,
   "id": "012ef46c-939a-4902-9148-0766085de6eb",
   "metadata": {},
   "outputs": [],
   "source": [
    "df1.to_csv(\"/data/zhouweiwei/spatial/data/sfpq-target.csv\",index=False)"
   ]
  },
  {
   "cell_type": "code",
   "execution_count": 58,
   "id": "305a2227-4b8b-46a6-b2f2-b2b2b3b8a5bf",
   "metadata": {},
   "outputs": [],
   "source": [
    "match=pd.read_csv(r\"/data/zhouweiwei/spatial/data/Homo_sapiens_string_to_int_ID_conversion.csv\",names=[\"A\",\"B\",\"C\",\"D\",\"E\"])\n",
    "match[\"D\"]=match[\"D\"].astype(\"str\")\n",
    "match[\"E\"]=match[\"E\"].astype(\"str\")"
   ]
  },
  {
   "cell_type": "code",
   "execution_count": 40,
   "id": "0428fb0e-8721-4f9e-9564-97ff3f2f6578",
   "metadata": {},
   "outputs": [],
   "source": [
    "match['concat'] = match[[\"D\", \"E\"]].apply(''.join, axis=1)"
   ]
  },
  {
   "cell_type": "code",
   "execution_count": 59,
   "id": "65742363-61d3-4efd-9730-62e9fb001e27",
   "metadata": {},
   "outputs": [
    {
     "name": "stderr",
     "output_type": "stream",
     "text": [
      "/tmp/ipykernel_95136/501163457.py:1: SettingWithCopyWarning: \n",
      "A value is trying to be set on a copy of a slice from a DataFrame.\n",
      "Try using .loc[row_indexer,col_indexer] = value instead\n",
      "\n",
      "See the caveats in the documentation: https://pandas.pydata.org/pandas-docs/stable/user_guide/indexing.html#returning-a-view-versus-a-copy\n",
      "  df1[\"ensembl gene id\"]=df1[\"ensembl gene id\"].astype(\"str\")\n",
      "/tmp/ipykernel_95136/501163457.py:2: SettingWithCopyWarning: \n",
      "A value is trying to be set on a copy of a slice from a DataFrame.\n",
      "Try using .loc[row_indexer,col_indexer] = value instead\n",
      "\n",
      "See the caveats in the documentation: https://pandas.pydata.org/pandas-docs/stable/user_guide/indexing.html#returning-a-view-versus-a-copy\n",
      "  df1[\"ensembl transcript id\"]=df1[\"ensembl transcript id\"].astype(\"str\")\n",
      "/tmp/ipykernel_95136/501163457.py:3: SettingWithCopyWarning: \n",
      "A value is trying to be set on a copy of a slice from a DataFrame.\n",
      "Try using .loc[row_indexer,col_indexer] = value instead\n",
      "\n",
      "See the caveats in the documentation: https://pandas.pydata.org/pandas-docs/stable/user_guide/indexing.html#returning-a-view-versus-a-copy\n",
      "  df1['concat'] = df1[[\"ensembl gene id\", \"ensembl transcript id\"]].apply(''.join, axis=1)\n"
     ]
    }
   ],
   "source": [
    "df1[\"ensembl gene id\"]=df1[\"ensembl gene id\"].astype(\"str\")\n",
    "df1[\"ensembl transcript id\"]=df1[\"ensembl transcript id\"].astype(\"str\")\n",
    "df1['concat'] = df1[[\"ensembl gene id\", \"ensembl transcript id\"]].apply(''.join, axis=1)\n"
   ]
  },
  {
   "cell_type": "code",
   "execution_count": 42,
   "id": "b078a036-e9b0-433a-9b22-0c602fed5c10",
   "metadata": {},
   "outputs": [],
   "source": [
    "new_data=pd.merge(df1, match, how='inner', left_on=\"ensembl gene id\",right_on=\"E\")"
   ]
  },
  {
   "cell_type": "code",
   "execution_count": 60,
   "id": "67d14da0-572c-4345-9ae0-76b55d276054",
   "metadata": {},
   "outputs": [],
   "source": [
    "new_data1=pd.merge(new_data,match,how=\"inner\",left_on=\"ensembl transcript id\",right_on=\"D\")"
   ]
  },
  {
   "cell_type": "code",
   "execution_count": 61,
   "id": "2a572f00-d07f-465b-8742-84f036da5750",
   "metadata": {},
   "outputs": [],
   "source": [
    "new_data1=new_data1[[\"C_y\",\"ensembl gene id\",\"ensembl transcript id\",\"gene biotype\",\n",
    "\t\t\t\t\t\t\t\t\t\t\t\"transcript biotype\",\"transcript position\",\"RBP\",\"Score\",\"unpaired probability\"\n",
    "\t\t\t\t\t\t\t\t\t\t\t,\"chromosome\",\"region\",\"exon start\",\"exon end\"]]"
   ]
  },
  {
   "cell_type": "code",
   "execution_count": 62,
   "id": "b36c275e-85b0-48d6-b807-8f6d95566614",
   "metadata": {},
   "outputs": [],
   "source": [
    "new_data1=new_data1.rename(columns={'C_y': 'target'})"
   ]
  },
  {
   "cell_type": "code",
   "execution_count": 67,
   "id": "6fb6e8af-faf0-4a00-acb0-6a073570624e",
   "metadata": {
    "scrolled": true
   },
   "outputs": [],
   "source": [
    "new_data1.to_csv(\"/data/zhouweiwei/spatial/data/sfpq-target-gene.csv\",index=False)"
   ]
  },
  {
   "cell_type": "code",
   "execution_count": 69,
   "id": "131d6ee2-e546-472c-af36-0c49ee695398",
   "metadata": {},
   "outputs": [
    {
     "data": {
      "text/plain": [
       "(2340850, 12)"
      ]
     },
     "execution_count": 69,
     "metadata": {},
     "output_type": "execute_result"
    }
   ],
   "source": [
    "df1.shape"
   ]
  },
  {
   "cell_type": "code",
   "execution_count": null,
   "id": "fd36f20b-2623-4c0d-bb40-1ff63f4a9b30",
   "metadata": {},
   "outputs": [],
   "source": []
  }
 ],
 "metadata": {
  "kernelspec": {
   "display_name": "Python 3 (ipykernel)",
   "language": "python",
   "name": "python3"
  },
  "language_info": {
   "codemirror_mode": {
    "name": "ipython",
    "version": 3
   },
   "file_extension": ".py",
   "mimetype": "text/x-python",
   "name": "python",
   "nbconvert_exporter": "python",
   "pygments_lexer": "ipython3",
   "version": "3.9.18"
  }
 },
 "nbformat": 4,
 "nbformat_minor": 5
}
