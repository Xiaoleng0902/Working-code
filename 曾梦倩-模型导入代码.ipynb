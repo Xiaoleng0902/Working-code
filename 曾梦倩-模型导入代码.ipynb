{
 "cells": [
  {
   "cell_type": "code",
   "execution_count": 5,
   "id": "16a579e9",
   "metadata": {},
   "outputs": [
    {
     "name": "stdout",
     "output_type": "stream",
     "text": [
      "文件夹 '/Users/lengxiaomifeng/PycharmProject/单细胞/result/ccRcc_Skin_Xgboost' 不存在，已创建成功！\n",
      "文件夹 '/Users/lengxiaomifeng/PycharmProject/单细胞/result/ccRcc_Heart_Xgboost' 不存在，已创建成功！\n",
      "文件夹 '/Users/lengxiaomifeng/PycharmProject/单细胞/result/ccRcc_Kidney_Xgboost' 不存在，已创建成功！\n",
      "文件夹 '/Users/lengxiaomifeng/PycharmProject/单细胞/result/ccRcc_Lung_Xgboost' 不存在，已创建成功！\n",
      "文件夹 '/Users/lengxiaomifeng/PycharmProject/单细胞/result/ccRcc_Thymus_Xgboost' 不存在，已创建成功！\n",
      "文件夹 '/Users/lengxiaomifeng/PycharmProject/单细胞/result/ccRcc_Adrenal_Gland_Xgboost' 不存在，已创建成功！\n",
      "文件夹 '/Users/lengxiaomifeng/PycharmProject/单细胞/result/ccRcc_Cerebellum_Xgboost' 不存在，已创建成功！\n",
      "文件夹 '/Users/lengxiaomifeng/PycharmProject/单细胞/result/ccRcc_Breast_Xgboost' 不存在，已创建成功！\n",
      "文件夹 '/Users/lengxiaomifeng/PycharmProject/单细胞/result/ccRcc_Myelon_Xgboost' 不存在，已创建成功！\n",
      "文件夹 '/Users/lengxiaomifeng/PycharmProject/单细胞/result/ccRcc_Spleen_Xgboost' 不存在，已创建成功！\n",
      "文件夹 '/Users/lengxiaomifeng/PycharmProject/单细胞/result/ccRcc_Ovary_Xgboost' 不存在，已创建成功！\n",
      "文件夹 '/Users/lengxiaomifeng/PycharmProject/单细胞/result/ccRcc_Colon_Xgboost' 不存在，已创建成功！\n",
      "文件夹 '/Users/lengxiaomifeng/PycharmProject/单细胞/result/ccRcc_Stomach_Xgboost' 不存在，已创建成功！\n",
      "文件夹 '/Users/lengxiaomifeng/PycharmProject/单细胞/result/ccRcc_Prostate_Xgboost' 不存在，已创建成功！\n",
      "文件夹 '/Users/lengxiaomifeng/PycharmProject/单细胞/result/ccRcc_Testis_Xgboost' 不存在，已创建成功！\n",
      "文件夹 '/Users/lengxiaomifeng/PycharmProject/单细胞/result/ccRcc_Lymph_Node_Xgboost' 不存在，已创建成功！\n",
      "文件夹 '/Users/lengxiaomifeng/PycharmProject/单细胞/result/ccRcc_Esophagus_Xgboost' 不存在，已创建成功！\n",
      "文件夹 '/Users/lengxiaomifeng/PycharmProject/单细胞/result/ccRcc_Gallbladder_Xgboost' 不存在，已创建成功！\n",
      "文件夹 '/Users/lengxiaomifeng/PycharmProject/单细胞/result/ccRcc_Aorta_Xgboost' 不存在，已创建成功！\n",
      "文件夹 '/Users/lengxiaomifeng/PycharmProject/单细胞/result/ccRcc_Brain_Xgboost' 不存在，已创建成功！\n",
      "文件夹 '/Users/lengxiaomifeng/PycharmProject/单细胞/result/ccRcc_Tongue_Xgboost' 不存在，已创建成功！\n",
      "文件夹 '/Users/lengxiaomifeng/PycharmProject/单细胞/result/ccRcc_Pancreas_Xgboost' 不存在，已创建成功！\n",
      "文件夹 '/Users/lengxiaomifeng/PycharmProject/单细胞/result/ccRcc_Trachea_Xgboost' 不存在，已创建成功！\n",
      "文件夹 '/Users/lengxiaomifeng/PycharmProject/单细胞/result/ccRcc_Bladder_Xgboost' 不存在，已创建成功！\n",
      "文件夹 '/Users/lengxiaomifeng/PycharmProject/单细胞/result/ccRcc_Bone_Marrow_Xgboost' 不存在，已创建成功！\n",
      "文件夹 '/Users/lengxiaomifeng/PycharmProject/单细胞/result/ccRcc_Small_Intestine_Xgboost' 不存在，已创建成功！\n",
      "文件夹 '/Users/lengxiaomifeng/PycharmProject/单细胞/result/ccRcc_Uterus_Xgboost' 不存在，已创建成功！\n",
      "文件夹 '/Users/lengxiaomifeng/PycharmProject/单细胞/result/ccRcc_Liver_Xgboost' 不存在，已创建成功！\n",
      "文件夹 '/Users/lengxiaomifeng/PycharmProject/单细胞/result/ccRcc_Thyroid_Xgboost' 不存在，已创建成功！\n",
      "文件夹 '/Users/lengxiaomifeng/PycharmProject/单细胞/result/ccRcc_Muscle_Xgboost' 不存在，已创建成功！\n"
     ]
    }
   ],
   "source": [
    "import  os\n",
    "import  joblib\n",
    "import  numpy as np\n",
    "import  pandas as pd\n",
    "for i in os.listdir(\"/Users/lengxiaomifeng/Desktop/kidney/kidney\"):\n",
    "\n",
    "    folder_path = os.path.join(\"/Users/lengxiaomifeng/PycharmProject/单细胞/result\",i.split(\".pkl\")[0])\n",
    "\n",
    "    if not os.path.exists(folder_path):\n",
    "        os.makedirs(folder_path)\n",
    "        print(f\"文件夹 '{folder_path}' 不存在，已创建成功！\")\n",
    "    for j in os.listdir(\"/Users/lengxiaomifeng/Desktop/Kidney Clear Cell Cancer_Kidney 2\"):\n",
    "        model=joblib.load(os.path.join(\"/Users/lengxiaomifeng/Desktop/kidney/kidney\",i))\n",
    "        data=pd.read_csv(os.path.join(\"/Users/lengxiaomifeng/Desktop/Kidney Clear Cell Cancer_Kidney 2\",j),index_col=0).dropna(how=\"any\")\n",
    "        predict=model.predict_proba(data)\n",
    "        result=pd.DataFrame(predict,index=data.index)\n",
    "        result.to_csv(folder_path+\"/\"+j)"
   ]
  },
  {
   "cell_type": "code",
   "execution_count": null,
   "id": "8427263e",
   "metadata": {},
   "outputs": [],
   "source": []
  }
 ],
 "metadata": {
  "kernelspec": {
   "display_name": "Python 3 (ipykernel)",
   "language": "python",
   "name": "python3"
  },
  "language_info": {
   "codemirror_mode": {
    "name": "ipython",
    "version": 3
   },
   "file_extension": ".py",
   "mimetype": "text/x-python",
   "name": "python",
   "nbconvert_exporter": "python",
   "pygments_lexer": "ipython3",
   "version": "3.9.13"
  },
  "toc": {
   "base_numbering": 1,
   "nav_menu": {},
   "number_sections": true,
   "sideBar": true,
   "skip_h1_title": false,
   "title_cell": "Table of Contents",
   "title_sidebar": "Contents",
   "toc_cell": false,
   "toc_position": {},
   "toc_section_display": true,
   "toc_window_display": false
  }
 },
 "nbformat": 4,
 "nbformat_minor": 5
}
